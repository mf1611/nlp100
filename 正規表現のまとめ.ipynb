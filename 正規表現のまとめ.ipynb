{
 "cells": [
  {
   "cell_type": "code",
   "execution_count": 1,
   "metadata": {},
   "outputs": [],
   "source": [
    "import re"
   ]
  },
  {
   "cell_type": "markdown",
   "metadata": {},
   "source": [
    "- 参考：https://note.nkmk.me/python-re-match-search-findall-etc/\n",
    "- 文字列の前に，rをつけるraw文字列と扱い，例えば＼を特別文字扱いしてくれる（\\n, \\t）とか"
   ]
  },
  {
   "cell_type": "markdown",
   "metadata": {},
   "source": [
    "## match\n",
    "- 文字列の\"先頭が\"パターンにマッチするとマッチオブジェクトを返す\n",
    "- 先頭にない場合は，Noneを返す"
   ]
  },
  {
   "cell_type": "code",
   "execution_count": 28,
   "metadata": {},
   "outputs": [
    {
     "name": "stdout",
     "output_type": "stream",
     "text": [
      "<_sre.SRE_Match object; span=(0, 11), match='aaa@xxx.com'>\n"
     ]
    }
   ],
   "source": [
    "s = 'aaa@xxx.com, bbb@yyy.com, ccc@zzz.net'\n",
    "\n",
    "m = re.match(r'([a-z]+)@([a-z]+)\\.com', s)\n",
    "print(m)"
   ]
  },
  {
   "cell_type": "code",
   "execution_count": 29,
   "metadata": {},
   "outputs": [
    {
     "name": "stdout",
     "output_type": "stream",
     "text": [
      "None\n"
     ]
    }
   ],
   "source": [
    "s = 'aaa@xxx.com, bbb@yyy.com, ccc@zzz.net'\n",
    "\n",
    "# 先頭でない場合は，None\n",
    "print(re.match(r'([a-z]+)@([a-z]+)\\.net', s))"
   ]
  },
  {
   "cell_type": "markdown",
   "metadata": {},
   "source": [
    "- [a-z]: aからzまでのいずれかの文字\n",
    "- +: 直前のパターンを１回以上繰り返すという意味\n",
    "- .は，特殊な文字なので，\\つける必要がある"
   ]
  },
  {
   "cell_type": "code",
   "execution_count": 30,
   "metadata": {},
   "outputs": [
    {
     "name": "stdout",
     "output_type": "stream",
     "text": [
      "0\n",
      "11\n",
      "(0, 11)\n"
     ]
    }
   ],
   "source": [
    "print(m.start())  # matchした初めの位置\n",
    "print(m.end())  # matchした終わりの位置\n",
    "print(m.span())  # matchした位置の範囲"
   ]
  },
  {
   "cell_type": "code",
   "execution_count": 31,
   "metadata": {},
   "outputs": [
    {
     "name": "stdout",
     "output_type": "stream",
     "text": [
      "aaa@xxx.com\n"
     ]
    }
   ],
   "source": [
    "print(m.group())  # matchした文字列"
   ]
  },
  {
   "cell_type": "markdown",
   "metadata": {},
   "source": [
    "## search\n",
    "- 文字列すべてが検索対象で、先頭にない文字列にもマッチする。\n",
    "- ただし，マッチする部分が複数ある場合は、\"最初のマッチ部分のみ\"が返される。"
   ]
  },
  {
   "cell_type": "code",
   "execution_count": 32,
   "metadata": {},
   "outputs": [
    {
     "name": "stdout",
     "output_type": "stream",
     "text": [
      "<_sre.SRE_Match object; span=(26, 37), match='ccc@zzz.net'>\n"
     ]
    }
   ],
   "source": [
    "s = 'aaa@xxx.com, bbb@yyy.com, ccc@zzz.net'\n",
    "\n",
    "m = re.search(r'[a-z]+@[a-z]+\\.net', s)\n",
    "print(m)"
   ]
  },
  {
   "cell_type": "code",
   "execution_count": 33,
   "metadata": {},
   "outputs": [
    {
     "name": "stdout",
     "output_type": "stream",
     "text": [
      "26\n",
      "37\n",
      "(26, 37)\n"
     ]
    }
   ],
   "source": [
    "print(m.start())  # matchした初めの位置\n",
    "print(m.end())  # matchした終わりの位置\n",
    "print(m.span())  # matchした位置の範囲"
   ]
  },
  {
   "cell_type": "markdown",
   "metadata": {},
   "source": [
    "## fullmatch\n",
    "- 文字列全体が正規表現パターンにマッチしているかどうかの確認\n",
    "- 例えば、ある文字列がメールアドレスとして有効かどうかなどをチェックする場合に便利"
   ]
  },
  {
   "cell_type": "code",
   "execution_count": 34,
   "metadata": {},
   "outputs": [
    {
     "name": "stdout",
     "output_type": "stream",
     "text": [
      "None\n"
     ]
    }
   ],
   "source": [
    "s = '!!!aaa@xxx.com!!!'\n",
    "\n",
    "m = re.match(r'[a-z]+@[a-z]+\\.com$', s)\n",
    "print(m)"
   ]
  },
  {
   "cell_type": "markdown",
   "metadata": {},
   "source": [
    "# findall\n",
    "- マッチするすべての部分文字列をリストにして返す\n",
    "- リストの要素はマッチオブジェクトではなく文字列なので注意"
   ]
  },
  {
   "cell_type": "code",
   "execution_count": 35,
   "metadata": {},
   "outputs": [
    {
     "name": "stdout",
     "output_type": "stream",
     "text": [
      "['aaa@xxx.com', 'bbb@yyy.com', 'ccc@zzz.net']\n"
     ]
    }
   ],
   "source": [
    "s = 'aaa@xxx.com, bbb@yyy.com, ccc@zzz.net'\n",
    "\n",
    "result = re.findall(r'[a-z]+@[a-z]+\\.[a-z]+', s)\n",
    "print(result)"
   ]
  },
  {
   "cell_type": "code",
   "execution_count": 37,
   "metadata": {},
   "outputs": [
    {
     "name": "stdout",
     "output_type": "stream",
     "text": [
      "[('aaa', 'xxx', 'com'), ('bbb', 'yyy', 'com'), ('ccc', 'zzz', 'net')]\n"
     ]
    }
   ],
   "source": [
    "# マッチオブジェクトを返すには，()で囲む，するとタプルで返す\n",
    "result = re.findall(r'([a-z]+)@([a-z]+)\\.([a-z]+)', s)\n",
    "print(result)"
   ]
  },
  {
   "cell_type": "code",
   "execution_count": 39,
   "metadata": {},
   "outputs": [
    {
     "name": "stdout",
     "output_type": "stream",
     "text": [
      "[]\n"
     ]
    }
   ],
   "source": [
    "# １つもマッチしない場合，空のリストを返す\n",
    "result = re.findall('[0-9]+', s)\n",
    "print(result)"
   ]
  },
  {
   "cell_type": "markdown",
   "metadata": {},
   "source": [
    "## finditer\n",
    "- マッチするすべての部分をイテレータで返す"
   ]
  },
  {
   "cell_type": "code",
   "execution_count": 41,
   "metadata": {},
   "outputs": [
    {
     "name": "stdout",
     "output_type": "stream",
     "text": [
      "<callable_iterator object at 0x7f895504e2b0>\n",
      "aaa@xxx.com\n",
      "bbb@yyy.com\n",
      "ccc@zzz.net\n"
     ]
    }
   ],
   "source": [
    "s = 'aaa@xxx.com, bbb@yyy.com, ccc@zzz.net'\n",
    "\n",
    "result = re.finditer(r'[a-z]+@[a-z]+\\.[a-z]+', s)\n",
    "print(result)\n",
    "\n",
    "for m in result:\n",
    "    print(m.group())"
   ]
  },
  {
   "cell_type": "markdown",
   "metadata": {},
   "source": [
    "# sub, subn\n",
    "- マッチした部分を他の文字列に置換\n",
    "- 特に，subnの場合は，置換した文字列と置換された個数のタプルが返ってくる"
   ]
  },
  {
   "cell_type": "code",
   "execution_count": 42,
   "metadata": {},
   "outputs": [
    {
     "name": "stdout",
     "output_type": "stream",
     "text": [
      "new-address, new-address, ccc@zzz.net\n"
     ]
    }
   ],
   "source": [
    "s = 'aaa@xxx.com, bbb@yyy.com, ccc@zzz.net'\n",
    "\n",
    "result = re.sub(r'[a-z]+@[a-z]+\\.com', 'new-address', s)\n",
    "print(result)"
   ]
  },
  {
   "cell_type": "code",
   "execution_count": 43,
   "metadata": {},
   "outputs": [
    {
     "name": "stdout",
     "output_type": "stream",
     "text": [
      "new-address, bbb@yyy.com, ccc@zzz.net\n"
     ]
    }
   ],
   "source": [
    "# countで最大置換数を指定\n",
    "result = re.sub(r'[a-z]+@[a-z]+\\.com', 'new-address', s, count=1)\n",
    "print(result)"
   ]
  },
  {
   "cell_type": "code",
   "execution_count": 44,
   "metadata": {},
   "outputs": [
    {
     "name": "stdout",
     "output_type": "stream",
     "text": [
      "('new-address, new-address, ccc@zzz.net', 2)\n"
     ]
    }
   ],
   "source": [
    "result = re.subn(r'[a-z]+@[a-z]+\\.com', 'new-address', s)\n",
    "print(result)"
   ]
  },
  {
   "cell_type": "markdown",
   "metadata": {},
   "source": [
    "## split\n",
    "- パターンにマッチした部分で文字列を分割し、リストにして返す\n",
    "- 先頭・末尾にマッチする場合、結果のリストの最初と最後に空文字列''が含まれるので注意。"
   ]
  },
  {
   "cell_type": "code",
   "execution_count": 45,
   "metadata": {},
   "outputs": [
    {
     "name": "stdout",
     "output_type": "stream",
     "text": [
      "['111', '222', '333']\n",
      "['', 'aaa', 'bbb', '']\n"
     ]
    }
   ],
   "source": [
    "s = '111aaa222bbb333'\n",
    "\n",
    "result = re.split('[a-z]+', s)\n",
    "print(result)\n",
    "\n",
    "result = re.split('[0-9]+', s)\n",
    "print(result)"
   ]
  },
  {
   "cell_type": "markdown",
   "metadata": {},
   "source": [
    "## その他"
   ]
  },
  {
   "cell_type": "markdown",
   "metadata": {},
   "source": [
    "- \\w: 任意の英数字（[a-zA-Z0-9_]）, また全角の日本語にもマッチ"
   ]
  },
  {
   "cell_type": "code",
   "execution_count": 46,
   "metadata": {},
   "outputs": [
    {
     "name": "stdout",
     "output_type": "stream",
     "text": [
      "<_sre.SRE_Match object; span=(0, 11), match='あいう漢字ＡＢＣ１２３'>\n"
     ]
    }
   ],
   "source": [
    "m = re.match(r'\\w+', 'あいう漢字ＡＢＣ１２３')\n",
    "print(m)"
   ]
  },
  {
   "cell_type": "markdown",
   "metadata": {},
   "source": [
    "- \\d: 任意の数字 [0-9]"
   ]
  },
  {
   "cell_type": "code",
   "execution_count": 64,
   "metadata": {},
   "outputs": [
    {
     "name": "stdout",
     "output_type": "stream",
     "text": [
      "['１２３']\n"
     ]
    }
   ],
   "source": [
    "m = re.findall(r'\\d+', 'あいう漢字ＡＢＣ１２３')\n",
    "print(m)"
   ]
  },
  {
   "cell_type": "markdown",
   "metadata": {},
   "source": [
    "- \\s: 任意の空白文字\n",
    "\t[\\t\\n\\r\\f\\v]"
   ]
  },
  {
   "cell_type": "code",
   "execution_count": 70,
   "metadata": {},
   "outputs": [
    {
     "name": "stdout",
     "output_type": "stream",
     "text": [
      "['あいう', '漢字', 'ＡＢＣ', '１２３']\n",
      "['あいう', '漢字', 'ＡＢＣ', '１２３']\n"
     ]
    }
   ],
   "source": [
    "m = re.split(r'\\s+', 'あいう 漢字 ＡＢＣ １２３')\n",
    "print(m)\n",
    "\n",
    "m = re.split(r'\\s+', 'あいう\\t漢字\\tＡＢＣ\\t１２３')\n",
    "print(m)"
   ]
  },
  {
   "cell_type": "markdown",
   "metadata": {},
   "source": [
    "- 大文字小文字"
   ]
  },
  {
   "cell_type": "code",
   "execution_count": 47,
   "metadata": {},
   "outputs": [
    {
     "name": "stdout",
     "output_type": "stream",
     "text": [
      "<_sre.SRE_Match object; span=(0, 6), match='abcABC'>\n"
     ]
    }
   ],
   "source": [
    "m = re.match('[a-zA-Z]+', 'abcABC')\n",
    "print(m)"
   ]
  },
  {
   "cell_type": "markdown",
   "metadata": {},
   "source": [
    "- ^: 文字列全体の先頭のみにマッチ\n",
    "- $: 文字列全体の末尾のみにマッチ"
   ]
  },
  {
   "cell_type": "code",
   "execution_count": 49,
   "metadata": {},
   "outputs": [
    {
     "name": "stdout",
     "output_type": "stream",
     "text": [
      "['aaa', 'xxx', 'bbb', 'yyy', 'ccc', 'zzz']\n",
      "['aaa']\n",
      "['zzz']\n"
     ]
    }
   ],
   "source": [
    "s = '''aaa-xxx\n",
    "bbb-yyy\n",
    "ccc-zzz'''\n",
    "\n",
    "result = re.findall('[a-z]+', s)\n",
    "print(result)\n",
    "\n",
    "result = re.findall('^[a-z]+', s)\n",
    "print(result)\n",
    "\n",
    "result = re.findall('[a-z]+$', s)\n",
    "print(result)"
   ]
  },
  {
   "cell_type": "markdown",
   "metadata": {},
   "source": [
    "# ※例題"
   ]
  },
  {
   "cell_type": "markdown",
   "metadata": {},
   "source": [
    "- // 「東京」で始まる文字列"
   ]
  },
  {
   "cell_type": "code",
   "execution_count": 58,
   "metadata": {},
   "outputs": [
    {
     "data": {
      "text/plain": [
       "'^東京.*'"
      ]
     },
     "execution_count": 58,
     "metadata": {},
     "output_type": "execute_result"
    }
   ],
   "source": [
    "\"^東京.*\"  #\".\"が任意の1文字で，\"*\"が0回以上の繰り返しなので，任意の文字列が後に続くことを意味する"
   ]
  },
  {
   "cell_type": "markdown",
   "metadata": {},
   "source": [
    "- 「だよね。」で終わる文字列"
   ]
  },
  {
   "cell_type": "code",
   "execution_count": 56,
   "metadata": {},
   "outputs": [
    {
     "data": {
      "text/plain": [
       "'.*だよね。$'"
      ]
     },
     "execution_count": 56,
     "metadata": {},
     "output_type": "execute_result"
    }
   ],
   "source": [
    "\".*だよね。$\""
   ]
  },
  {
   "cell_type": "markdown",
   "metadata": {},
   "source": [
    "- 「〇〇cm」と書かれた数値"
   ]
  },
  {
   "cell_type": "code",
   "execution_count": 57,
   "metadata": {},
   "outputs": [
    {
     "data": {
      "text/plain": [
       "'[0-9]+cm'"
      ]
     },
     "execution_count": 57,
     "metadata": {},
     "output_type": "execute_result"
    }
   ],
   "source": [
    "\"[0-9]+cm\""
   ]
  },
  {
   "cell_type": "markdown",
   "metadata": {},
   "source": [
    "- 2015 2016 2017 2018 2019 の5つの文字列を行を検索したい場合"
   ]
  },
  {
   "cell_type": "code",
   "execution_count": 52,
   "metadata": {},
   "outputs": [
    {
     "data": {
      "text/plain": [
       "'201[5-9]'"
      ]
     },
     "execution_count": 52,
     "metadata": {},
     "output_type": "execute_result"
    }
   ],
   "source": [
    "\"201[5-9]\""
   ]
  },
  {
   "cell_type": "markdown",
   "metadata": {},
   "source": [
    "- 利用者に携帯電話の電話番号を入力してもらうテキストボックスがあった場合. 携帯電話の電話番号は 090-xxxx-xxxx のように 070 または 080 または 090 で始まり、4 桁の数値が 2 つ続くものとする. "
   ]
  },
  {
   "cell_type": "code",
   "execution_count": 53,
   "metadata": {},
   "outputs": [
    {
     "data": {
      "text/plain": [
       "'^0[789]0-\\\\d{4}-\\\\d{4}$'"
      ]
     },
     "execution_count": 53,
     "metadata": {},
     "output_type": "execute_result"
    }
   ],
   "source": [
    "\"^0[789]0-\\d{4}-\\d{4}$\""
   ]
  },
  {
   "cell_type": "markdown",
   "metadata": {},
   "source": [
    "\"*\"と\"+\"の違い\n",
    "- \"*\": 0回以上の繰り返し\n",
    "- \"+\": 1回以上の繰り返し"
   ]
  },
  {
   "cell_type": "code",
   "execution_count": 62,
   "metadata": {},
   "outputs": [
    {
     "name": "stdout",
     "output_type": "stream",
     "text": [
      "['ab', 'a', 'abb', 'abbb']\n",
      "['ab', 'abb', 'abbb']\n"
     ]
    }
   ],
   "source": [
    "text = \"ab a abb abbb\"\n",
    "\n",
    "print(re.findall('ab*', text))  # *の場合は直前の文字が含まれない場合も含める\n",
    "print(re.findall('ab+', text))"
   ]
  },
  {
   "cell_type": "markdown",
   "metadata": {},
   "source": [
    "\".*\"と\"\""
   ]
  }
 ],
 "metadata": {
  "kernelspec": {
   "display_name": "Python 3",
   "language": "python",
   "name": "python3"
  },
  "language_info": {
   "codemirror_mode": {
    "name": "ipython",
    "version": 3
   },
   "file_extension": ".py",
   "mimetype": "text/x-python",
   "name": "python",
   "nbconvert_exporter": "python",
   "pygments_lexer": "ipython3",
   "version": "3.6.6"
  }
 },
 "nbformat": 4,
 "nbformat_minor": 4
}
