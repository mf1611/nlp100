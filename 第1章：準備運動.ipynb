{
 "cells": [
  {
   "cell_type": "markdown",
   "metadata": {},
   "source": [
    "00"
   ]
  },
  {
   "cell_type": "code",
   "execution_count": 1,
   "metadata": {},
   "outputs": [
    {
     "data": {
      "text/plain": [
       "'desserts'"
      ]
     },
     "execution_count": 1,
     "metadata": {},
     "output_type": "execute_result"
    }
   ],
   "source": [
    "s = \"stressed\"\n",
    "s[::-1]"
   ]
  },
  {
   "cell_type": "markdown",
   "metadata": {},
   "source": [
    "01"
   ]
  },
  {
   "cell_type": "code",
   "execution_count": 2,
   "metadata": {},
   "outputs": [
    {
     "data": {
      "text/plain": [
       "'パトカー'"
      ]
     },
     "execution_count": 2,
     "metadata": {},
     "output_type": "execute_result"
    }
   ],
   "source": [
    "s = \"パタトクカシーー\"\n",
    "s[1-1] + s[3-1] + s[5-1] + s[7-1]"
   ]
  },
  {
   "cell_type": "markdown",
   "metadata": {},
   "source": [
    "02"
   ]
  },
  {
   "cell_type": "code",
   "execution_count": 5,
   "metadata": {},
   "outputs": [
    {
     "name": "stdout",
     "output_type": "stream",
     "text": [
      "パタトクカシーー\n"
     ]
    }
   ],
   "source": [
    "s1 = \"パトカー\"\n",
    "s2 = \"タクシー\"\n",
    "\n",
    "s3 = \"\"\n",
    "for i in range(len(s1)):\n",
    "        s3 += s1[i]\n",
    "        s3 += s2[i]\n",
    "\n",
    "print(s3)"
   ]
  },
  {
   "cell_type": "markdown",
   "metadata": {},
   "source": [
    "03"
   ]
  },
  {
   "cell_type": "code",
   "execution_count": 7,
   "metadata": {},
   "outputs": [
    {
     "data": {
      "text/plain": [
       "[3, 1, 4, 1, 5, 9, 2, 6, 5, 3, 5, 8, 9, 7, 9]"
      ]
     },
     "execution_count": 7,
     "metadata": {},
     "output_type": "execute_result"
    }
   ],
   "source": [
    "s = \"Now I need a drink, alcoholic of course, after the heavy lectures involving quantum mechanics.\"\n",
    "\n",
    "s = s.replace(\".\", \"\").replace(\",\", \"\")\n",
    "s_divide = s.split(\" \")\n",
    "l = []\n",
    "for w in s_divide:\n",
    "    l.append(len(w))\n",
    "l"
   ]
  },
  {
   "cell_type": "markdown",
   "metadata": {},
   "source": [
    "04"
   ]
  },
  {
   "cell_type": "code",
   "execution_count": 14,
   "metadata": {
    "scrolled": true
   },
   "outputs": [
    {
     "data": {
      "text/plain": [
       "{'H': 1,\n",
       " 'He': 2,\n",
       " 'Li': 3,\n",
       " 'Be': 4,\n",
       " 'B': 5,\n",
       " 'C': 6,\n",
       " 'N': 7,\n",
       " 'O': 8,\n",
       " 'F': 9,\n",
       " 'Ne': 10,\n",
       " 'Na': 11,\n",
       " 'Mi': 12,\n",
       " 'Al': 13,\n",
       " 'Si': 14,\n",
       " 'P': 15,\n",
       " 'S': 16,\n",
       " 'Cl': 17,\n",
       " 'Ar': 18,\n",
       " 'K': 19,\n",
       " 'Ca': 20}"
      ]
     },
     "execution_count": 14,
     "metadata": {},
     "output_type": "execute_result"
    }
   ],
   "source": [
    "s = \"Hi He Lied Because Boron Could Not Oxidize Fluorine. New Nations Might Also Sign Peace Security Clause. Arthur King Can.\"\n",
    "\n",
    "s = s.replace(\".\", \"\").replace(\",\", \"\")\n",
    "s_divide = s.split(\" \")\n",
    "\n",
    "num_list = [1, 5, 6, 7, 8, 9, 15, 16, 19]\n",
    "s_extract = {}\n",
    "for i, w in enumerate(s_divide):\n",
    "    if i+1 in num_list:\n",
    "        s_extract[w[0]] = i+1\n",
    "    else:\n",
    "        s_extract[w[:2]] = i+1\n",
    "\n",
    "s_extract"
   ]
  },
  {
   "cell_type": "markdown",
   "metadata": {},
   "source": [
    "05"
   ]
  },
  {
   "cell_type": "code",
   "execution_count": 21,
   "metadata": {},
   "outputs": [
    {
     "name": "stdout",
     "output_type": "stream",
     "text": [
      "文字bigram:  ['I ', ' a', 'am', 'm ', ' a', 'an', 'n ', ' N', 'NL', 'LP', 'Pe', 'er']\n",
      "単語bigram:  [['I', 'am'], ['am', 'an'], ['an', 'NLPer']]\n"
     ]
    }
   ],
   "source": [
    "def n_gram(s, n):\n",
    "    return [s[i:i+n] for i in range(len(s)-n+1)]\n",
    "        \n",
    "s = 'I am an NLPer'\n",
    "print(\"文字bigram: \", n_gram(s, 2))\n",
    "print(\"単語bigram: \", n_gram(s.split(\" \"), 2))"
   ]
  },
  {
   "cell_type": "markdown",
   "metadata": {},
   "source": [
    "06"
   ]
  },
  {
   "cell_type": "code",
   "execution_count": 20,
   "metadata": {},
   "outputs": [
    {
     "name": "stdout",
     "output_type": "stream",
     "text": [
      "{'ap', 'ph', 'pa', 'se', 'is', 'gr', 'ra', 'ad', 'ag', 'ar', 'di'}\n",
      "{'ar', 'ra', 'ap', 'pa'}\n",
      "{'is', 'ad', 'di', 'se'}\n",
      "se is in X\n"
     ]
    }
   ],
   "source": [
    "s1 = \"paraparaparadise\"\n",
    "s2 = \"paragraph\"\n",
    "\n",
    "X = set(n_gram(s1, 2))\n",
    "Y = set(n_gram(s2, 2))\n",
    "\n",
    "print(X | Y)\n",
    "print(X & Y)\n",
    "print(X - Y)\n",
    "\n",
    "\n",
    "k = \"se\"\n",
    "if k in X:\n",
    "    print(k + \" is in X\")\n",
    "if k in Y:\n",
    "    print(k + \" is in Y\")"
   ]
  },
  {
   "cell_type": "markdown",
   "metadata": {},
   "source": [
    "07"
   ]
  },
  {
   "cell_type": "code",
   "execution_count": 22,
   "metadata": {},
   "outputs": [
    {
     "data": {
      "text/plain": [
       "'12時の気温は22.4'"
      ]
     },
     "execution_count": 22,
     "metadata": {},
     "output_type": "execute_result"
    }
   ],
   "source": [
    "def make_s(x, y, z):\n",
    "    return f\"{x}時の{y}は{z}\"\n",
    "\n",
    "make_s(x=12, y=\"気温\", z=22.4)"
   ]
  },
  {
   "cell_type": "markdown",
   "metadata": {},
   "source": [
    "08"
   ]
  },
  {
   "cell_type": "code",
   "execution_count": 28,
   "metadata": {},
   "outputs": [
    {
     "name": "stdout",
     "output_type": "stream",
     "text": [
      "Tsrh rh z kvm.\n",
      "This is a pen.\n"
     ]
    }
   ],
   "source": [
    "def cipher(s):\n",
    "    s_tr = [chr(219 - ord(x)) if x.islower() else x for x in s]\n",
    "    return \"\".join(s_tr)\n",
    "\n",
    "s = \"This is a pen.\"\n",
    "print(cipher(s))\n",
    "print(cipher(cipher(s)))"
   ]
  },
  {
   "cell_type": "markdown",
   "metadata": {},
   "source": [
    "09"
   ]
  },
  {
   "cell_type": "code",
   "execution_count": 42,
   "metadata": {},
   "outputs": [
    {
     "data": {
      "text/plain": [
       "'I cdlonut beleie that I cuod alaucty usendtrad what I was readig : the peonemnhl powr of the humn mind '"
      ]
     },
     "execution_count": 42,
     "metadata": {},
     "output_type": "execute_result"
    }
   ],
   "source": [
    "import random\n",
    "\n",
    "def TypoglycemiaPermalink(word_list):\n",
    "    word_list_tr = []\n",
    "    for w in word_list:\n",
    "        w_length = len(w)\n",
    "        if w_length>4:\n",
    "            num_shuffle = [i for i in range(1, w_length-2)]\n",
    "            random.shuffle(num_shuffle)\n",
    "            w_tr = \"\"\n",
    "            for i in [0] + num_shuffle + [-1]:\n",
    "                w_tr += w[i]\n",
    "        else:\n",
    "            w_tr = w[:]\n",
    "        word_list_tr.append(w_tr)\n",
    "    return \" \".join(word_list_tr)\n",
    "\n",
    "\n",
    "s = \"I couldn’t believe that I could actually understand what I was reading : the phenomenal power of the human mind .\"\n",
    "s_divide = s.replace(\".\", \"\").replace(\",\", \"\").split(\" \")\n",
    "TypoglycemiaPermalink(s_divide)"
   ]
  },
  {
   "cell_type": "code",
   "execution_count": null,
   "metadata": {},
   "outputs": [],
   "source": []
  }
 ],
 "metadata": {
  "kernelspec": {
   "display_name": "Python 3",
   "language": "python",
   "name": "python3"
  },
  "language_info": {
   "codemirror_mode": {
    "name": "ipython",
    "version": 3
   },
   "file_extension": ".py",
   "mimetype": "text/x-python",
   "name": "python",
   "nbconvert_exporter": "python",
   "pygments_lexer": "ipython3",
   "version": "3.6.6"
  }
 },
 "nbformat": 4,
 "nbformat_minor": 4
}
